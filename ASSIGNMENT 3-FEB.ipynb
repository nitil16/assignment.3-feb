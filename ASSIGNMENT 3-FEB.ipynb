{
 "cells": [
  {
   "cell_type": "markdown",
   "id": "585855de-64d2-4307-ac6b-08050a4a9884",
   "metadata": {},
   "source": [
    "                                          ASSIGNMENT 3-FEB\n",
    "                                            "
   ]
  },
  {
   "cell_type": "markdown",
   "id": "a4177601-33e2-4191-97fa-6792015caf92",
   "metadata": {},
   "source": [
    "QUESTION.1"
   ]
  },
  {
   "cell_type": "markdown",
   "id": "d3a80fa3-8eeb-47b6-add5-448aaba52e68",
   "metadata": {},
   "source": [
    "Q1. Which keyword is used to create a function? Create a function to return a list of odd numbers in the\n",
    "range of 1 to 25."
   ]
  },
  {
   "cell_type": "markdown",
   "id": "0f77df6e-6d9b-4018-9299-a50703d002ca",
   "metadata": {},
   "source": [
    "Ans. \"def\" key word used to create a function."
   ]
  },
  {
   "cell_type": "markdown",
   "id": "d5bb0079-020b-4f75-9a7d-119995c80915",
   "metadata": {},
   "source": [
    "Below, is the example of a function which return a list of odd numbers from 1 to25"
   ]
  },
  {
   "cell_type": "code",
   "execution_count": 5,
   "id": "b1671436-917c-463b-83f1-61e4a19782c1",
   "metadata": {},
   "outputs": [],
   "source": [
    "# CODE LINE GOES HERE "
   ]
  },
  {
   "cell_type": "code",
   "execution_count": 6,
   "id": "d09d3dfa-9156-4a44-b58c-11852a5c8953",
   "metadata": {},
   "outputs": [
    {
     "name": "stdout",
     "output_type": "stream",
     "text": [
      "This function is used to return a list of odd numbers in the range of 1 to 25\n",
      "[1, 3, 5, 7, 9, 11, 13, 15, 17, 19, 21, 23, 25]\n"
     ]
    }
   ],
   "source": [
    "def odd_numbers():\n",
    "    print(\"This function is used to return a list of odd numbers in the range of 1 to 25\")\n",
    "\n",
    "    odd_list = []\n",
    "    for i in range(1,26):\n",
    "        if i % 2 != 0 :\n",
    "             odd_list.append(i)\n",
    "    return odd_list\n",
    "\n",
    "print(odd_numbers())\n"
   ]
  },
  {
   "cell_type": "markdown",
   "id": "2162b515-551f-4b39-a881-615c874304f3",
   "metadata": {},
   "source": [
    "QUESTION.2"
   ]
  },
  {
   "cell_type": "markdown",
   "id": "866c8b08-ba40-4729-93c2-c81b0e12fb2e",
   "metadata": {},
   "source": [
    "Q2. Why *args and **kwargs is used in some functions? Create a function each for *args and **kwargs\n",
    "to demonstrate their use."
   ]
  },
  {
   "cell_type": "markdown",
   "id": "c5f0ac38-3fe2-4ef4-83fe-1b1e3e5142b5",
   "metadata": {},
   "source": [
    "Ans. *args and **kwargs are used in Python functions.\n",
    "\n",
    "*args is used to pass a variable number of arguments to a function. It allows us to pass any number of positional arguments to the function.\n",
    "*args is represented by an asterisk (*) followed by a parameter name (usually args).\n",
    "The parameter name can be anything (string) rather than 'args' but in general we use 'args' as parameter name.\n",
    "\n",
    "**kwargs is used to pass a variable number of keyword arguments (i.e., named arguments) to a function.\n",
    "It allows us to pass any number of keyword arguments to the function which are then passed as a dictionary to the function.\n",
    "**kwargs is represented by two asterisks (**) followed by a parameter name (usually kwargs).\n",
    "\n",
    "Below is an example of function that uses *args to add any number of integers : "
   ]
  },
  {
   "cell_type": "code",
   "execution_count": 7,
   "id": "1c3122dd-a228-4211-a75b-d57e3c5662a8",
   "metadata": {},
   "outputs": [],
   "source": [
    "# CODE LINE GOES HERE"
   ]
  },
  {
   "cell_type": "code",
   "execution_count": 8,
   "id": "119ecf5e-61e7-475d-9fce-d820dda406bb",
   "metadata": {},
   "outputs": [],
   "source": [
    "def t1(*args):\n",
    "    return args"
   ]
  },
  {
   "cell_type": "code",
   "execution_count": 9,
   "id": "8588d817-73c5-42c4-905f-1a5f66e7fa71",
   "metadata": {},
   "outputs": [
    {
     "data": {
      "text/plain": [
       "()"
      ]
     },
     "execution_count": 9,
     "metadata": {},
     "output_type": "execute_result"
    }
   ],
   "source": [
    "t1()"
   ]
  },
  {
   "cell_type": "code",
   "execution_count": 10,
   "id": "ec37a9e3-930a-4903-b877-1a1d03a49ac3",
   "metadata": {},
   "outputs": [
    {
     "data": {
      "text/plain": [
       "tuple"
      ]
     },
     "execution_count": 10,
     "metadata": {},
     "output_type": "execute_result"
    }
   ],
   "source": [
    "type(t1())"
   ]
  },
  {
   "cell_type": "code",
   "execution_count": 11,
   "id": "0af04062-3144-4186-989b-b4ad3504e621",
   "metadata": {},
   "outputs": [
    {
     "data": {
      "text/plain": [
       "(1, 244, 231)"
      ]
     },
     "execution_count": 11,
     "metadata": {},
     "output_type": "execute_result"
    }
   ],
   "source": [
    "t1(1,244,231)"
   ]
  },
  {
   "cell_type": "code",
   "execution_count": 12,
   "id": "773b8bd8-6e74-4f5f-85f9-26b4e8b0f9dc",
   "metadata": {},
   "outputs": [
    {
     "data": {
      "text/plain": [
       "(1231, 134, 4567, 'nitil', 'kumar', [231.34, 134, 867])"
      ]
     },
     "execution_count": 12,
     "metadata": {},
     "output_type": "execute_result"
    }
   ],
   "source": [
    "t1(1231,134,4567,\"nitil\", \"kumar\", [231.34,134,867])"
   ]
  },
  {
   "cell_type": "code",
   "execution_count": 13,
   "id": "46b39653-a243-445d-ab93-23ff11f8c2b6",
   "metadata": {},
   "outputs": [],
   "source": [
    "def t2(*args,a):\n",
    "    return args , a"
   ]
  },
  {
   "cell_type": "code",
   "execution_count": 14,
   "id": "a491fd03-c40f-4a2c-8d27-bb05a1e754fc",
   "metadata": {},
   "outputs": [
    {
     "data": {
      "text/plain": [
       "((1, 23, 43), 56)"
      ]
     },
     "execution_count": 14,
     "metadata": {},
     "output_type": "execute_result"
    }
   ],
   "source": [
    "t2(1,23,43, a= 56)"
   ]
  },
  {
   "cell_type": "code",
   "execution_count": null,
   "id": "a04d3f1b-8012-4bd6-bc6e-f194e2fc9260",
   "metadata": {},
   "outputs": [],
   "source": []
  },
  {
   "cell_type": "markdown",
   "id": "b5e82e22-05e1-47be-af08-49c0365509dc",
   "metadata": {},
   "source": [
    "Below is an example of function that uses **kwargs"
   ]
  },
  {
   "cell_type": "code",
   "execution_count": 15,
   "id": "591b7e8b-2fb6-43f9-81f3-63fc41533bda",
   "metadata": {},
   "outputs": [],
   "source": [
    "# CODE LINE GOES HERE"
   ]
  },
  {
   "cell_type": "code",
   "execution_count": 16,
   "id": "2a247a95-4b78-45e6-874f-7bc7df2a4a9f",
   "metadata": {},
   "outputs": [],
   "source": [
    "def t1(**kwargs):\n",
    "    return kwargs"
   ]
  },
  {
   "cell_type": "code",
   "execution_count": 17,
   "id": "74245ece-2601-48e0-834b-b15990c4de11",
   "metadata": {},
   "outputs": [
    {
     "data": {
      "text/plain": [
       "{}"
      ]
     },
     "execution_count": 17,
     "metadata": {},
     "output_type": "execute_result"
    }
   ],
   "source": [
    "t1()"
   ]
  },
  {
   "cell_type": "code",
   "execution_count": 18,
   "id": "07f84a74-e16c-4922-97c7-88b665522a44",
   "metadata": {},
   "outputs": [
    {
     "data": {
      "text/plain": [
       "dict"
      ]
     },
     "execution_count": 18,
     "metadata": {},
     "output_type": "execute_result"
    }
   ],
   "source": [
    "type(t1())"
   ]
  },
  {
   "cell_type": "code",
   "execution_count": 19,
   "id": "e4351a60-ff47-434d-8fef-51c466f19749",
   "metadata": {},
   "outputs": [
    {
     "data": {
      "text/plain": [
       "{'a': [1, 2, 3, 4, 5], 'b': 'nitil', 'c': 23.45}"
      ]
     },
     "execution_count": 19,
     "metadata": {},
     "output_type": "execute_result"
    }
   ],
   "source": [
    "t1(a = [1,2,3,4,5] , b = \"nitil\" , c = 23.45)"
   ]
  },
  {
   "cell_type": "code",
   "execution_count": null,
   "id": "cbe21dec-84c5-4109-98e2-6a87fde7b42b",
   "metadata": {},
   "outputs": [],
   "source": []
  },
  {
   "cell_type": "markdown",
   "id": "1e3fd1b6-f90d-4f70-bde1-2485aa9bbb24",
   "metadata": {},
   "source": [
    "QUESTION.3"
   ]
  },
  {
   "cell_type": "markdown",
   "id": "a945c193-e919-492c-b7f2-79111e87dc84",
   "metadata": {},
   "source": [
    "Q3. What is an iterator in python? Name the method used to initialise the iterator object and the method\n",
    "used for iteration. Use these methods to print the first five elements of the given list [2, 4, 6, 8, 10, 12, 14,\n",
    "16, 18, 20]."
   ]
  },
  {
   "cell_type": "markdown",
   "id": "0e979bff-a248-485c-bba6-36102de984b5",
   "metadata": {},
   "source": [
    "Ans. In Python, an iterator is an object that implements the iterator protocol, which consists of the methods __iter__"
   ]
  },
  {
   "cell_type": "code",
   "execution_count": 20,
   "id": "522cb387-5ac3-40ab-ab0a-32e7ab9ab485",
   "metadata": {},
   "outputs": [],
   "source": [
    "# CODE LINE GOES HERE"
   ]
  },
  {
   "cell_type": "code",
   "execution_count": 21,
   "id": "16b2ad71-7ff4-4ca0-91e3-4c63d8907b7b",
   "metadata": {},
   "outputs": [],
   "source": [
    "l = [2,4,6,8,10,12,14,16,18,20]"
   ]
  },
  {
   "cell_type": "code",
   "execution_count": 22,
   "id": "03460ca5-59f6-48de-af99-a1e595665730",
   "metadata": {},
   "outputs": [
    {
     "name": "stdout",
     "output_type": "stream",
     "text": [
      "output :  [2, 4, 6, 8, 10]\n"
     ]
    }
   ],
   "source": [
    "iterator = iter(l)\n",
    "output_as_list = []\n",
    "\n",
    "for i in range(5) :\n",
    "    output = next(iterator)\n",
    "    output_as_list.append(output)\n",
    "    \n",
    "print(\"output : \",output_as_list)    "
   ]
  },
  {
   "cell_type": "code",
   "execution_count": null,
   "id": "817eeac5-4255-4c60-88e3-f6c438976933",
   "metadata": {},
   "outputs": [],
   "source": []
  },
  {
   "cell_type": "markdown",
   "id": "6a3d489b-020c-4ac7-89dd-158f4d78588c",
   "metadata": {},
   "source": [
    "QUESTION.4\n"
   ]
  },
  {
   "cell_type": "markdown",
   "id": "f37db383-dbce-44aa-9cd8-df1338f801cb",
   "metadata": {},
   "source": [
    "Ques 4. What is a generator function in python ?\n",
    "Why yield keyword is used ?\n",
    "Give an example of a generator function.\n",
    "\n",
    "Ans. In Python, a generator function is a function that returns an iterator, which can be used to iterate over a sequence of values.\n",
    "\n",
    "Generator functions are similar to regular functions, but instead of returning a value and exiting, they yield a value and temporarily suspend their execution state.\n",
    "This means that generator functions can be used to generate a sequence of values on the fly, without needing to generate all the values at once,\n",
    "as is required with a list comprehension or other data structures.\n",
    "\n",
    "The yield keyword is used in a generator function to yield a value and suspend the execution of the function.\n",
    "When the next value is requested from the generator, the function resumes execution from where it left off and continues until the next yield statement is encountered.\n",
    "\n",
    "Find below the example of a generator function that generates a sequence of even numbers till the given input by user : '''\n"
   ]
  },
  {
   "cell_type": "code",
   "execution_count": 24,
   "id": "1f05b595-04e0-4d42-aa21-fdaf92be1eec",
   "metadata": {},
   "outputs": [],
   "source": [
    "# CODE LINE GOES HERE"
   ]
  },
  {
   "cell_type": "code",
   "execution_count": 29,
   "id": "6326da23-a9eb-43d3-8bf1-c020b1d55748",
   "metadata": {},
   "outputs": [
    {
     "name": "stdin",
     "output_type": "stream",
     "text": [
      "Enter how many even numbers you want to generate :  10\n"
     ]
    },
    {
     "name": "stdout",
     "output_type": "stream",
     "text": [
      "2\n",
      "4\n",
      "6\n",
      "8\n",
      "10\n",
      "12\n",
      "14\n",
      "16\n",
      "18\n",
      "20\n"
     ]
    }
   ],
   "source": [
    "n = int(input(\"Enter how many even numbers you want to generate : \"))\n",
    "\n",
    "def even_numbers(n) :\n",
    "     \n",
    "    i = 1\n",
    "    while i <= n :\n",
    "        yield 2*i\n",
    "        i = i + 1\n",
    "\n",
    "my_generator = even_numbers(n)\n",
    "for num in my_generator :\n",
    "    print(num)\n",
    "    "
   ]
  },
  {
   "cell_type": "code",
   "execution_count": null,
   "id": "54b7bb4c-9b77-4ee2-bbcd-ee8adecb21d1",
   "metadata": {},
   "outputs": [],
   "source": []
  },
  {
   "cell_type": "markdown",
   "id": "cfd2eb2b-3d4b-40b7-aa2f-8d41241da316",
   "metadata": {},
   "source": [
    "QUESTION.5"
   ]
  },
  {
   "cell_type": "markdown",
   "id": "74f4b639-da3c-420d-b8f7-27d71b2204b1",
   "metadata": {},
   "source": [
    "Q5. Create a generator function for prime numbers less than 1000. Use the next() method to print the\n",
    "first 20 prime numbers."
   ]
  },
  {
   "cell_type": "markdown",
   "id": "4491e0ff-2bfd-4e9c-80da-6fe1af5d2eaf",
   "metadata": {},
   "source": [
    "Ans. Below is the example of a generator function that generates prime numbers less than 1000."
   ]
  },
  {
   "cell_type": "code",
   "execution_count": 31,
   "id": "96970281-3863-4bcd-991c-39fe70c31b3b",
   "metadata": {},
   "outputs": [],
   "source": [
    "# CODE LINE GOES HERE"
   ]
  },
  {
   "cell_type": "code",
   "execution_count": 38,
   "id": "d539a9e3-e74a-402c-8535-fca1a2238013",
   "metadata": {},
   "outputs": [
    {
     "name": "stdout",
     "output_type": "stream",
     "text": [
      "No. 1 -> 2\n",
      "No. 2 -> 3\n",
      "No. 3 -> 5\n",
      "No. 4 -> 7\n",
      "No. 5 -> 11\n",
      "No. 6 -> 13\n",
      "No. 7 -> 17\n",
      "No. 8 -> 19\n",
      "No. 9 -> 23\n",
      "No. 10 -> 29\n",
      "No. 11 -> 31\n",
      "No. 12 -> 37\n",
      "No. 13 -> 41\n",
      "No. 14 -> 43\n",
      "No. 15 -> 47\n",
      "No. 16 -> 53\n",
      "No. 17 -> 59\n",
      "No. 18 -> 61\n",
      "No. 19 -> 67\n",
      "No. 20 -> 71\n"
     ]
    }
   ],
   "source": [
    "def prime_numbers() :\n",
    "    \n",
    "    \n",
    "    yield 2\n",
    "    for num in range(3, 1000, 2):\n",
    "        for i in range(3, int(num**0.5)+1, 2):\n",
    "            if num % i == 0:\n",
    "                break\n",
    "        else:\n",
    "            yield num\n",
    "\n",
    "my_generator = prime_numbers()\n",
    "for i in range(1,21):\n",
    "    print(\"No.\", i, \"->\", next(my_generator))"
   ]
  },
  {
   "cell_type": "code",
   "execution_count": null,
   "id": "d5792bb9-05c0-4319-8f2f-5b6cf4293a0b",
   "metadata": {},
   "outputs": [],
   "source": []
  },
  {
   "cell_type": "markdown",
   "id": "0e2f39a6-8c8d-4f85-8e4a-9ff8e29b6d91",
   "metadata": {},
   "source": [
    "QUESTION.6"
   ]
  },
  {
   "cell_type": "markdown",
   "id": "d4a73d86-7767-4482-82eb-9dfa37b88de4",
   "metadata": {},
   "source": [
    "Q6. Write a python program to print the first 10 Fibonacci numbers using a while loop."
   ]
  },
  {
   "cell_type": "markdown",
   "id": "d4bea5be-f1a7-4686-a593-125bdcc9dadb",
   "metadata": {},
   "source": [
    "Ans. Below is the python program to print first 10 Fibonacci numbers using a while loop."
   ]
  },
  {
   "cell_type": "code",
   "execution_count": 39,
   "id": "19330457-170d-4c90-b0aa-bbd604fd9a06",
   "metadata": {},
   "outputs": [],
   "source": [
    "# CODE LINE GOES HERE"
   ]
  },
  {
   "cell_type": "code",
   "execution_count": 40,
   "id": "e8a24cd0-45f1-49e3-bec7-029ef2967667",
   "metadata": {},
   "outputs": [
    {
     "name": "stdin",
     "output_type": "stream",
     "text": [
      "enter the number of element you are looking for 10\n"
     ]
    },
    {
     "name": "stdout",
     "output_type": "stream",
     "text": [
      "0\n",
      "1\n",
      "1\n",
      "2\n",
      "3\n",
      "5\n",
      "8\n",
      "13\n",
      "21\n",
      "34\n"
     ]
    }
   ],
   "source": [
    "number = int(input(\"enter the number of element you are looking for\"))\n",
    "a, b = 0, 1\n",
    "counter = 0 \n",
    "while counter < number:\n",
    "    print(a)\n",
    "    c = a+b\n",
    "    a = b\n",
    "    b = c\n",
    "    counter = counter+1"
   ]
  },
  {
   "cell_type": "code",
   "execution_count": null,
   "id": "c1f054ab-34e7-42ba-b8cb-200dee584d0b",
   "metadata": {},
   "outputs": [],
   "source": []
  },
  {
   "cell_type": "markdown",
   "id": "ebb9e346-a451-49c0-900c-433875844a61",
   "metadata": {},
   "source": [
    "QUESTION.7"
   ]
  },
  {
   "cell_type": "markdown",
   "id": "39885943-bee3-4737-bb26-6f36f4902e74",
   "metadata": {},
   "source": [
    "Q7. Write a List Comprehension to iterate through the given string: ‘pwskills’.\n",
    "Expected output: ['p', 'w', 's', 'k', 'i', 'l', 'l', 's']"
   ]
  },
  {
   "cell_type": "markdown",
   "id": "8ce6896e-1f82-4fca-8747-96a0c6baa7d7",
   "metadata": {},
   "source": [
    "Ans. Below is the List Comprehension to iterate through the given string \"pwskills\" and extract the characters 'p', 'w', 's', 'k', 'i', 'l', 'l', and 's'\n",
    "as Expected output: ['p', 'w', 's', 'k', 'i', 'l', 'l', 's']"
   ]
  },
  {
   "cell_type": "code",
   "execution_count": 41,
   "id": "80e54034-cba6-44d2-9b81-5f3d5db621d4",
   "metadata": {},
   "outputs": [],
   "source": [
    "# CODE LINE GOES HERE"
   ]
  },
  {
   "cell_type": "code",
   "execution_count": 45,
   "id": "0cde841c-47e7-49be-89d8-efc2524267dd",
   "metadata": {},
   "outputs": [
    {
     "name": "stdout",
     "output_type": "stream",
     "text": [
      "['p', 'w', 's', 'k', 'i', 'l', 'l', 's']\n"
     ]
    }
   ],
   "source": [
    "s = \"pwskills\"\n",
    "result = [char for char in s if char in ['p', 'w', 's', 'k', 'i', 'l']]\n",
    "print(result)"
   ]
  },
  {
   "cell_type": "code",
   "execution_count": null,
   "id": "de263aea-0b9a-4fd3-a400-367c11e46065",
   "metadata": {},
   "outputs": [],
   "source": []
  },
  {
   "cell_type": "markdown",
   "id": "899b6380-52ad-4281-9488-2e2767deb26a",
   "metadata": {},
   "source": [
    "QUESTION.8"
   ]
  },
  {
   "cell_type": "markdown",
   "id": "095185fb-9077-40d4-b5b5-8f583bf39979",
   "metadata": {},
   "source": [
    "Q8. Write a python program to check whether a given number is Palindrome or not using a while loop."
   ]
  },
  {
   "cell_type": "markdown",
   "id": "484b8883-bbb9-476b-ad59-1703c39fd56b",
   "metadata": {},
   "source": [
    "Ans. Below is the Python program to check whether a given number is palindrome or not using a while loop."
   ]
  },
  {
   "cell_type": "code",
   "execution_count": 46,
   "id": "fc16a4a9-6714-4934-b9c0-296bee5ee428",
   "metadata": {},
   "outputs": [],
   "source": [
    "# CODE LINE GOES HERE"
   ]
  },
  {
   "cell_type": "code",
   "execution_count": 48,
   "id": "510aa6df-7a63-4553-a22b-d5851a729440",
   "metadata": {},
   "outputs": [
    {
     "name": "stdin",
     "output_type": "stream",
     "text": [
      "Enter any digit number to check whether it is a Palindrome or not :  345\n"
     ]
    },
    {
     "name": "stdout",
     "output_type": "stream",
     "text": [
      "The number 345 is not a Palindrome !\n"
     ]
    }
   ],
   "source": [
    "num = int(input(\"Enter any digit number to check whether it is a Palindrome or not : \"))\n",
    "\n",
    "temp = num\n",
    "reverse_num = 0\n",
    "\n",
    "# Check if the number is palindrome or not\n",
    "while temp > 0 :\n",
    "    digit = temp % 10\n",
    "    reverse_num = (reverse_num * 10) + digit\n",
    "    temp = temp // 10\n",
    "\n",
    "if num == reverse_num :\n",
    "    print(\"The number\", num, \"is a Palindrome !\")\n",
    "else :\n",
    "    print(\"The number\", num, \"is not a Palindrome !\")"
   ]
  },
  {
   "cell_type": "code",
   "execution_count": null,
   "id": "6a0cf67d-0974-4e0e-8f9d-dd7d3e473a6c",
   "metadata": {},
   "outputs": [],
   "source": []
  },
  {
   "cell_type": "markdown",
   "id": "84cdff7b-5576-4d60-afbd-7bb7b6d3bf67",
   "metadata": {},
   "source": [
    "QUESTION.9"
   ]
  },
  {
   "cell_type": "markdown",
   "id": "0b3fd72b-ed77-48df-838e-900369f7069f",
   "metadata": {},
   "source": [
    "Q9. Write a code to print odd numbers from 1 to 100 using list comprehension.\n",
    "Note: Use a list comprehension to create a list from 1 to 100 and use another List comprehension to filter\n",
    "out odd numbers."
   ]
  },
  {
   "cell_type": "markdown",
   "id": "84f144c9-7d7c-458e-95aa-7c91f14c2362",
   "metadata": {},
   "source": [
    "Ans. Below is the code to print odd numbers from 1 to 100 using list comprehension"
   ]
  },
  {
   "cell_type": "code",
   "execution_count": 49,
   "id": "6dd9866d-b0f7-4370-be00-6bc7a7968f51",
   "metadata": {},
   "outputs": [],
   "source": [
    "# CODE LINE GOES HERE"
   ]
  },
  {
   "cell_type": "code",
   "execution_count": 56,
   "id": "955fc1b9-97d4-400d-951d-31c7ad2adddd",
   "metadata": {},
   "outputs": [
    {
     "name": "stdout",
     "output_type": "stream",
     "text": [
      "Odd numbers from 1 to 100 using list comprehension :\n",
      " [1, 3, 5, 7, 9, 11, 13, 15, 17, 19, 21, 23, 25, 27, 29, 31, 33, 35, 37, 39, 41, 43, 45, 47, 49, 51, 53, 55, 57, 59, 61, 63, 65, 67, 69, 71, 73, 75, 77, 79, 81, 83, 85, 87, 89, 91, 93, 95, 97, 99]\n"
     ]
    }
   ],
   "source": [
    "numbers = [num for num in range(1, 101)]\n",
    "\n",
    "odd_numbers = [n for n in numbers if n % 2 != 0]\n",
    "\n",
    "print(\"Odd numbers from 1 to 100 using list comprehension :\\n\", odd_numbers)\n"
   ]
  },
  {
   "cell_type": "code",
   "execution_count": null,
   "id": "abc99092-d26c-4d39-8024-3e1b6c3c4bf9",
   "metadata": {},
   "outputs": [],
   "source": []
  }
 ],
 "metadata": {
  "kernelspec": {
   "display_name": "Python 3 (ipykernel)",
   "language": "python",
   "name": "python3"
  },
  "language_info": {
   "codemirror_mode": {
    "name": "ipython",
    "version": 3
   },
   "file_extension": ".py",
   "mimetype": "text/x-python",
   "name": "python",
   "nbconvert_exporter": "python",
   "pygments_lexer": "ipython3",
   "version": "3.10.8"
  }
 },
 "nbformat": 4,
 "nbformat_minor": 5
}
